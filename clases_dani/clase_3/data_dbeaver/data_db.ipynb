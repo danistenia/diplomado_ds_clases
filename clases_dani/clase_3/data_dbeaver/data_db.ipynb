{
 "cells": [
  {
   "cell_type": "code",
   "execution_count": 8,
   "metadata": {},
   "outputs": [],
   "source": [
    "import pandas as pd\n",
    "\n",
    "df = pd.read_excel('Sample - Superstore.xls')\n",
    "cols_df_1 = ['Customer ID', 'Customer Name', 'Segment']\n",
    "drop_cols_df_2 = ['Customer Name', 'Segment', 'Category', 'Sub-Category', 'Product Name']\n",
    "cols_df_3 = ['Product ID', 'Category', 'Sub-Category', 'Product Name']\n",
    "\n",
    "df_1 = df[cols_df_1]\n",
    "df_1.to_csv('customer_table.csv', index=False)\n",
    "df.drop(columns=drop_cols_df_2).to_csv('sales_table.csv', index=False)\n",
    "df_3 = df[cols_df_3]\n",
    "df_3.to_csv('product_details.csv', index=False)"
   ]
  },
  {
   "cell_type": "markdown",
   "metadata": {},
   "source": [
    "## Dropping duplicates"
   ]
  },
  {
   "cell_type": "code",
   "execution_count": 16,
   "metadata": {},
   "outputs": [],
   "source": [
    "import pandas as pd\n",
    "\n",
    "df_product = pd.read_csv('product_details.csv')\n",
    "df_customer = pd.read_csv('customer_table.csv')\n",
    "df_product = df_product.drop_duplicates(subset='Product ID')\n",
    "df_customer = df_customer.drop_duplicates(subset='Customer ID')\n",
    "df_product.to_csv('product_details.csv', index=False)\n",
    "df_customer.to_csv('customer_table.csv', index=False)"
   ]
  },
  {
   "cell_type": "code",
   "execution_count": null,
   "metadata": {},
   "outputs": [],
   "source": []
  }
 ],
 "metadata": {
  "kernelspec": {
   "display_name": "dany_env",
   "language": "python",
   "name": "python3"
  },
  "language_info": {
   "codemirror_mode": {
    "name": "ipython",
    "version": 3
   },
   "file_extension": ".py",
   "mimetype": "text/x-python",
   "name": "python",
   "nbconvert_exporter": "python",
   "pygments_lexer": "ipython3",
   "version": "3.9.16"
  }
 },
 "nbformat": 4,
 "nbformat_minor": 2
}
